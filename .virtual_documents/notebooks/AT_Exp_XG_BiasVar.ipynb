import pandas as pd
import os
import numpy as np
import sys
sys.path.append('..')


data = pd.read_csv('../data/interim/eq_2.csv')


data.columns


numerical_df = data.select_dtypes(exclude=['object'])
numerical_df.describe()


from scipy.stats import skew

def get_right_skewed_columns(df, skew_threshold=0.5):
    """
    Returns the names of columns that are right-skewed based on the skewness value, excluding binary columns.
    
    Parameters:
    - df: The input DataFrame (numerical columns only).
    - skew_threshold: The skewness threshold above which a column is considered right-skewed (default is 0.5).
    
    Returns:
    - List of column names that are right-skewed.
    """
    right_skewed_columns = []
    
    # Iterate through each column in the dataframe
    for col in df.columns:
        # Check if the column has more than 2 unique values (to avoid binary columns)
        if df[col].nunique() > 2:
            # Calculate skewness for each column
            col_skewness = skew(df[col].dropna())  # Drop NaN values to avoid issues
            
            # Check if the skewness is above the specified threshold (indicating right-skewness)
            if col_skewness > skew_threshold:
                right_skewed_columns.append(col)
    
    return right_skewed_columns



# Select numerical columns
numerical_df = data.select_dtypes(exclude=['object'])

# Get the right-skewed columns
right_skewed_cols = get_right_skewed_columns(numerical_df)

print("Right-skewed columns:", right_skewed_cols)



# import numpy as np

# def apply_log_transformation(df, columns):
#     """
#     Applies log transformation to the specified columns of the DataFrame.
    
#     Parameters:
#     - df: The input DataFrame.
#     - columns: List of column names to apply the log transformation on.
    
#     Returns:
#     - DataFrame with log-transformed columns.
#     """
    
#     df_transformed = df.copy()
    
#     # Apply log transformation to each specified column
#     for col in columns:
#         # Add a small constant to avoid log(0) and handle any zeros or negatives
#         df_transformed[col] = np.log1p([col])
    
#     return df_transformed



# Get the right-skewed columns (excluding binary columns)
#right_skewed_cols = get_right_skewed_columns(numerical_df)
#numerical_df = apply_log_transformation(numerical_df, right_skewed_cols)
#data[right_skewed_cols] = numerical_df[right_skewed_cols]


#pct = np.percentile(data.loc[:, 'age'].fillna(np.mean(data.loc[:, 'age'])), 99)
#print(pct)
#print(data.shape)
#data = data.loc[data.loc[:, 'age'] < pct]
#print(data.shape)


# Calculate the 99th percentile of the 'age' column
pct = np.percentile(data.loc[:, 'age'].fillna(np.mean(data.loc[:, 'age'])), 99)
print(pct)

# Add a new column 'old' to indicate if the age exceeds the 99th percentile
data['old'] = np.where(data['age'] >= pct, 1, 0)

# Cap the age to 100 where 'old' column is 1
data.loc[data['old'] == 1, 'age'] = 100

print(data.head())


import matplotlib.pyplot as plt
import seaborn as sns
# Count the occurrences of 'old' against the target variable 'damage_grade'
plot_data = data.groupby(['old', 'damage_grade']).size().reset_index(name='counts')

# Create a bar plot
plt.figure(figsize=(8, 6))
sns.barplot(x='damage_grade', y='counts', hue='old', data=plot_data)

# Add labels and title
plt.title('Distribution of "old" column against damage_grade')
plt.xlabel('Damage Grade')
plt.ylabel('Count')
plt.legend(title="Old (1=Old, 0=Not Old)")

# Show the plot
plt.show()


x = data.drop(columns=['damage_grade'])
y = data.damage_grade


y = y.replace({1: 0, 2: 1, 3: 2})


y


y.value_counts()


x.old.value_counts()


#numerical_df = data.select_dtypes(exclude=['object'])
#categorical_df = data.select_dtypes(include=['object'])


# Select categorical columns with relatively low cardinality (convenient but arbitrary)
categorical_cols = [cname for cname in x.columns if  x[cname].dtype == "object"]

# Select numerical columns
numerical_cols = [cname for cname in x.columns if x[cname].dtype in ['int32', 'int64', 'float64']]


categorical_cols


plt.hist(numerical_df.age)


from sklearn.model_selection import train_test_split
from sklearn.compose import ColumnTransformer
from sklearn.pipeline import Pipeline
from sklearn.impute import SimpleImputer
from sklearn.preprocessing import OneHotEncoder,OrdinalEncoder,StandardScaler, MinMaxScaler

#train_test_split
X_train, X_test, y_train, y_test = train_test_split(x, y, test_size=0.3, random_state=42, shuffle=True)


y_train.value_counts()


y_test.value_counts()


from category_encoders import BaseNEncoder


#from src.eda_first import summarize_dataframe
#summarize_dataframe(X_train)


#create numerical transformer

numerical_transformer = Pipeline([('imputer', SimpleImputer(strategy='mean'))])

#create categorical transformer
#categorical_transformer = Pipeline(steps=[ ('imputer', SimpleImputer(strategy='most_frequent')),
#                                            ('onehot', OneHotEncoder(handle_unknown='ignore'))
#                                            ])

base_encoder_columns = ['land_surface_condition',
 'foundation_type',
 'roof_type',
 'ground_floor_type',
 'other_floor_type',
 'position',
 'plan_configuration',
 'legal_ownership_status']

base_encoder = Pipeline(steps=[
    ('base_encoder', BaseNEncoder(cols=base_encoder_columns, base=3))
])


# Combine the transformations using ColumnTransformer
#preprocessor = ColumnTransformer(transformers=[
#    ('base_name', base_encoder, base_encoder_columns)])  # TargetEncoder for 'town'
#    ('num', numerical_transformer, numerical_cols)])


preprocessor = ColumnTransformer(transformers=[
    ('base_name', base_encoder, base_encoder_columns),  # TargetEncoder for 'town'
    ('num', 'passthrough', numerical_cols)  # Pass numerical columns through without transformation
])


from sklearn.metrics import accuracy_score, classification_report
from xgboost import XGBClassifier
# XGBoost
xgb = XGBClassifier(
    n_estimators=339,
    learning_rate=0.2669112505018992,
    max_depth=5,
    random_state=42,
    reg_lambda=1.2259716591605452,
    subsample=0.704976942819638,
    colsample_bytree=0.9,
    min_child_weight=4,
    alpha= 0.14170716330946964,    # Added L1 regularization
    #reg_lambda=1,   # Added L2 regularization (can also be increased)
    eval_metric='aucpr'
)

rf_pipe = Pipeline(steps=[
    ('preprocessor', preprocessor),  # Step 1: Preprocessing
    ('xgboost', xgb)  # Step 3: Model training
])

# Preprocessing of training data, fit model 
#rf_pipe.fit(X_train, y_train)

# Preprocessing of training data, fit model after upsampling!
rf_pipe.fit(X_train, y_train)

# Preprocessing of validation data, get predictions
rf_preds = rf_pipe.predict(X_test)

# Evaluate the model
accuracy = accuracy_score(y_test, rf_preds)
print('Accuracy for XGBoost:', accuracy)

# Detailed classification report
print('Classification Report:\n', classification_report(y_test, rf_preds))



# Preprocessing of validation data, get predictions
rf_preds2 = rf_pipe.predict(X_train)

# Evaluate the model
accuracy = accuracy_score(y_train, rf_preds2)
print('Accuracy for XGBoost:', accuracy)

# Detailed classification report
print('Classification Report:\n', classification_report(y_train, rf_preds))



