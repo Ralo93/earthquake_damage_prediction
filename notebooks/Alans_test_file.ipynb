{
 "cells": [
  {
   "cell_type": "code",
   "execution_count": null,
   "metadata": {},
   "outputs": [],
   "source": [
    "\n",
    "import pandas as pd\n",
    "import numpy as np\n",
    "from src.Encoding import preprocess_data\n",
    "data = pd.read_csv(r'../data/interim/team_drop_train.csv', delimiter=',')\n",
    "\n",
    "mypipeline  = (preprocess_data(data,[\"count_floors_pre_eq\"] ,[\"height_percentage  \"]))\n",
    "mypipeline.fit(data)\n"
   ]
  }
 ],
 "metadata": {
  "language_info": {
   "name": "python"
  }
 },
 "nbformat": 4,
 "nbformat_minor": 2
}
