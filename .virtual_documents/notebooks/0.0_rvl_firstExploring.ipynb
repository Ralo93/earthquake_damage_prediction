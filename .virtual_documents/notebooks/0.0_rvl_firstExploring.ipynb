import pandas as pd
import os
import numpy as np
import sys
sys.path.append('..')


data = pd.read_csv(r'../data/raw/train_values.csv', delimiter=',')


train_labels = pd.read_csv(r'../data/raw/train_labels.csv', delimiter=',')


merged_df = pd.merge(data, train_labels, on='building_id', how='inner')


merged_df.damage_grade.value_counts()


merged_df.columns


data.shape


data.head()


data.describe()


print(os.getcwd())


os.chdir(r'C:\Users\Administrator\Desktop\raphi_other\repositories\template_project\src')


from src.eda_first import summarize_dataframe
summarize_dataframe(data)


data.shape


data = data.dropna()


data.shape


data.columns.isnull()


data = data.drop_duplicates()


data.shape


# Assuming your dataframe is called df
columns_with_secondary_use = [col for col in data.columns if col.startswith('has_secondary_use')]
print(columns_with_secondary_use)


columns_to_drop = ['building_id', 'geo_level_1_id', 'geo_level_2_id', 'geo_level_3_id'] + columns_with_secondary_use
data = data.drop(columns=columns_to_drop)


data.shape





data.to_csv('../data/interim/promotion/train_clean2.csv', index=False)


data.describe()


summarize_dataframe(data)


data.to_csv('../data/interim/earthquakes_train_clean.csv', index=False)








pct = np.percentile(data.loc[:, 'search_views'].fillna(np.mean(data.loc[:, 'search_views'])), 95)
print(pct)
print(data.shape)
data = data.loc[data.loc[:, 'search_views'] < pct]
print(data.shape)


#convert created_date and deleted_date to datetime.
data[['created_date','deleted_date']] = data[['created_date','deleted_date']].apply(
    lambda _: pd.to_datetime(_))

#create the live_days column.
data['live_days'] = (data['deleted_date'] - data['created_date']).dt.days


#drop all cars with first_registration_year of more than 2022
data = data[data['first_registration_year'] <= 2024]

#drop all columns with negative live days. (since you cannot have a listing deleted before it is created)
data = data[data['live_days'] >= 0]

#drop all negative stock days
data = data[data['stock_days'] >= 0]

#drop all cars with price less than 100 euros
data = data[data.price > 100]


columns_to_drop = ['deleted_date', 'created_date', 'first_registration_year', 'article_id', 'ctr']
data = data.drop(columns=columns_to_drop)
